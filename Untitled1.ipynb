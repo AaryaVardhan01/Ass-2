{
 "cells": [
  {
   "cell_type": "code",
   "execution_count": 1,
   "id": "8b79bf46-a908-4aa6-a760-ffee477b6ee3",
   "metadata": {},
   "outputs": [],
   "source": [
    "#1.a='agra'\n",
    "#2 'a' is string we can check it using type method\n"
   ]
  },
  {
   "cell_type": "code",
   "execution_count": 4,
   "id": "96944326-9ee1-441c-a6d6-385c2c6f6f33",
   "metadata": {},
   "outputs": [
    {
     "name": "stdout",
     "output_type": "stream",
     "text": [
      "8\n",
      "3\n",
      "35\n",
      "Welcome to Python foundation coursepwskills\n"
     ]
    }
   ],
   "source": [
    "#3\n",
    "a=\"Welcome to Python foundation course\"\n",
    "b1=\"pwskills\"\n",
    "b=a.find('t')\n",
    "print(b)\n",
    "c=a.count('t')\n",
    "print(c)\n",
    "print(len(a))\n",
    "d=a+b1\n",
    "print(d)"
   ]
  },
  {
   "cell_type": "code",
   "execution_count": 7,
   "id": "4722b47d-8fab-4ff8-8909-336073c7b6db",
   "metadata": {},
   "outputs": [
    {
     "name": "stdout",
     "output_type": "stream",
     "text": [
      "The no. of lower case are 4\n",
      "The no. of upper case are 2\n",
      "The no. of numbers case are 5\n"
     ]
    }
   ],
   "source": [
    "#4\n",
    "lower=0\n",
    "upper=0\n",
    "n=0\n",
    "word = 'PanaJi@12256'\n",
    "for i in word:\n",
    "    if(i.islower()):\n",
    "        lower=lower+1\n",
    "    elif(i.isupper()):\n",
    "        upper=upper+1\n",
    "    elif(i.isdigit()):\n",
    "        n=n+1\n",
    "    else:\n",
    "        continue\n",
    "        \n",
    "print(\"The no. of lower case are\",lower)\n",
    "print(\"The no. of upper case are\",upper)\n",
    "print(\"The no. of numbers case are\",n)"
   ]
  },
  {
   "cell_type": "code",
   "execution_count": null,
   "id": "4a8fe6f3-a1b4-4902-a44c-669e22124b04",
   "metadata": {},
   "outputs": [],
   "source": [
    "#5\n",
    "num = 10\n",
    " \n",
    "print(\"Type of variable before conversion : \", type(num))\n",
    " \n",
    "\n",
    "c = str(num)\n",
    " \n",
    "\n",
    "print(\"Type After conversion : \",type(ced_num))"
   ]
  }
 ],
 "metadata": {
  "kernelspec": {
   "display_name": "Python 3 (ipykernel)",
   "language": "python",
   "name": "python3"
  },
  "language_info": {
   "codemirror_mode": {
    "name": "ipython",
    "version": 3
   },
   "file_extension": ".py",
   "mimetype": "text/x-python",
   "name": "python",
   "nbconvert_exporter": "python",
   "pygments_lexer": "ipython3",
   "version": "3.10.8"
  }
 },
 "nbformat": 4,
 "nbformat_minor": 5
}
